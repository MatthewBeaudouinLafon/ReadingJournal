{
 "cells": [
  {
   "cell_type": "markdown",
   "metadata": {},
   "source": [
    "# Day 7 Reading Journal\n",
    "\n",
    "This journal includes several required exercises, but it is meant to encourage active reading more generally.  You should use the journal to take detailed notes, catalog questions, and explore the content from Think Python deeply.\n",
    "\n",
    "Reading: Think Python Chapter 11, 12\n",
    "\n",
    "**Due: Thursday, February 18 at 12 noon**\n",
    "\n"
   ]
  },
  {
   "cell_type": "markdown",
   "metadata": {},
   "source": [
    "## [Chapter 11](http://www.greenteapress.com/thinkpython/html/thinkpython012.html)\n"
   ]
  },
  {
   "cell_type": "markdown",
   "metadata": {},
   "source": [
    "**Quick check:** In about one sentence using your own words, what is a dictionary?"
   ]
  },
  {
   "cell_type": "markdown",
   "metadata": {},
   "source": [
    "It's a data structure that links keys to values, where the keys/values can be any immutable object."
   ]
  },
  {
   "cell_type": "markdown",
   "metadata": {
    "is_question": true,
    "problem": "Exercise 11.2"
   },
   "source": [
    "### Exercise 2  \n",
    "\n",
    "Dictionaries have a [method called `get`](https://docs.python.org/2/library/stdtypes.html#mapping-types-dict) that takes a key and a default value. If the key appears in the dictionary, `get` returns the corresponding value; otherwise it returns the default value. For example:\n",
    "\n",
    "```\n",
    ">>> h = histogram('a')\n",
    ">>> print h\n",
    "{'a': 1}\n",
    ">>> h.get('a', 0)\n",
    "1\n",
    ">>> h.get('b', 0)\n",
    "0\n",
    "```\n",
    "\n",
    "Use `get` to write `histogram` more concisely. You should be able to eliminate the `if` statement. Add unit tests for your histogram implementation."
   ]
  },
  {
   "cell_type": "code",
   "execution_count": 3,
   "metadata": {
    "collapsed": false,
    "solution": "Exercise 11.2"
   },
   "outputs": [
    {
     "name": "stdout",
     "output_type": "stream",
     "text": [
      "{'a': 1, 'b': 1, 'o': 2, 'n': 1, 's': 2, 'r': 2, 'u': 2, 't': 1}\n",
      "{'a': 4, 'c': 1, 'b': 2}\n"
     ]
    }
   ],
   "source": [
    "def histogram(s):\n",
    "    d = dict()\n",
    "    for c in s:\n",
    "        d[c] = d.get(c, 0)+1\n",
    "    return d\n",
    "\n",
    "h = histogram('brontosaurus')\n",
    "j = histogram('baaabac')\n",
    "print h\n",
    "print j"
   ]
  },
  {
   "cell_type": "markdown",
   "metadata": {
    "is_question": true,
    "problem": "Exercise 11.4"
   },
   "source": [
    "### Exercise 4  \n",
    "\n",
    "Modify `reverse_lookup` so that it builds and returns a list of all keys that map to `v`, or an empty list if there are none. Add unit tests for your implementation."
   ]
  },
  {
   "cell_type": "code",
   "execution_count": 5,
   "metadata": {
    "collapsed": false,
    "scrolled": true,
    "solution": "Exercise 11.4"
   },
   "outputs": [
    {
     "name": "stdout",
     "output_type": "stream",
     "text": [
      "['o', 's', 'r', 'u']\n",
      "['c', 'b']\n"
     ]
    }
   ],
   "source": [
    "def reverse_lookup(d, v):\n",
    "    list_of_keys = []\n",
    "    for k in d:\n",
    "        if d[k] == v:\n",
    "             list_of_keys.append(k)\n",
    "    return list_of_keys\n",
    "h = histogram('brontosaurus')\n",
    "j = histogram('baaabacbcc')\n",
    "print reverse_lookup(h,2)\n",
    "print reverse_lookup(j,3)"
   ]
  },
  {
   "cell_type": "markdown",
   "metadata": {},
   "source": [
    "If you'd like to learn more about errors and exceptions, you can check out the [Python tutorial](https://docs.python.org/2/tutorial/errors.html) or read ahead to [Appendix A](http://www.greenteapress.com/thinkpython/html/thinkpython021.html) of Think Python. If you choose to use doctest for your unit testing, it can also [deal with exceptions](https://docs.python.org/2/library/doctest.html#what-about-exceptions)."
   ]
  },
  {
   "cell_type": "markdown",
   "metadata": {},
   "source": [
    "**Quick check** What type of objects can be used as keys to a dictionary, i.e. what property must they have?"
   ]
  },
  {
   "cell_type": "markdown",
   "metadata": {},
   "source": [
    "Gotta be immutable. "
   ]
  },
  {
   "cell_type": "markdown",
   "metadata": {
    "is_question": true,
    "problem": "Exercise 11.6"
   },
   "source": [
    "### Exercise 6 (modified)\n",
    "\n",
    "Create a memoized version of your Levenshtein distance function from Day 7. What kind of performance change do you see?\n",
    "\n",
    "Optional: If you'd like to get some quantitative results, you could check out the [timeit](https://docs.python.org/2/library/timeit.html) module\n",
    "\n",
    "Note: You can also study Fibonacci here if you prefer."
   ]
  },
  {
   "cell_type": "code",
   "execution_count": 14,
   "metadata": {
    "collapsed": false,
    "solution": "Exercise 11.6"
   },
   "outputs": [
    {
     "data": {
      "text/plain": [
       "2504730781961"
      ]
     },
     "execution_count": 14,
     "metadata": {},
     "output_type": "execute_result"
    }
   ],
   "source": [
    "def fibo(n, memo):\n",
    "    \n",
    "    if n == 0:\n",
    "        return 1\n",
    "    if n == 1:\n",
    "        return 1\n",
    "    \n",
    "    if n in memo:\n",
    "        return memo[n]\n",
    "    memo[n] = fibo(n-1, d) + fibo(n-2, d)\n",
    "    \n",
    "    return memo[n]\n",
    "\n",
    "d = {}\n",
    "fibo(60, d)"
   ]
  },
  {
   "cell_type": "markdown",
   "metadata": {},
   "source": [
    "## [Chapter 12](http://www.greenteapress.com/thinkpython/html/thinkpython013.html)\n",
    "\n",
    "**Quick check:** In about one sentence using your own words, what is a tuple?"
   ]
  },
  {
   "cell_type": "markdown",
   "metadata": {},
   "source": [
    "Tuple is basically an immutible list."
   ]
  },
  {
   "cell_type": "markdown",
   "metadata": {
    "is_question": true,
    "problem": "Exercise 12.1"
   },
   "source": [
    "### Exercise 1  \n",
    "\n",
    "Many of the built-in functions use variable-length argument tuples. For example, `max` and `min` can take any number of arguments:\n",
    "\n",
    "```\n",
    ">>> max(1,2,3)\n",
    "3\n",
    "```\n",
    "\n",
    "But `sum` does not.\n",
    "\n",
    "```\n",
    ">>> sum(1,2,3)\n",
    "TypeError: sum expected at most 2 arguments, got 3\n",
    "```\n",
    "\n",
    "Write a function called ```sumall``` that takes any number of arguments and returns their sum. \n",
    "\n",
    "Write unit tests for your function. Do I actually need to keep saying this? Let's assume it's always a good idea :)"
   ]
  },
  {
   "cell_type": "code",
   "execution_count": 17,
   "metadata": {
    "collapsed": false,
    "solution": "Exercise 12.1"
   },
   "outputs": [
    {
     "name": "stdout",
     "output_type": "stream",
     "text": [
      "10\n",
      "1\n"
     ]
    }
   ],
   "source": [
    "def sumall(*aTuple):\n",
    "    runningSum = 0\n",
    "    for aValue in aTuple:  # Basically english\n",
    "        runningSum += aValue\n",
    "    return runningSum\n",
    "\n",
    "print sumall(1,2,3,4)\n",
    "print sumall(1)"
   ]
  },
  {
   "cell_type": "markdown",
   "metadata": {},
   "source": [
    "If you're interested in more flexible ways to pass arguments to functions, check out the [Python tutorial](https://docs.python.org/2/tutorial/controlflow.html#more-on-defining-functions). For instance, you can also use keyword arguments, which are collected into a dictionary just like `*` gathers variable numbers of positional arguments into a tuple.\n",
    "\n",
    "This pattern is very common for defining functions with complex optional behaviors in Python, and you will often see definitions like:\n",
    "\n",
    "```\n",
    "def my_func(required_argument1, *arguments, **keywords):\n",
    "    ...\n",
    "```"
   ]
  },
  {
   "cell_type": "markdown",
   "metadata": {
    "is_question": true,
    "problem": "Exercise 12 sort"
   },
   "source": [
    "### Exercise\n",
    "\n",
    "Write a function `sort_by_last_letter` that takes a list of words and returns a new list with the words sorted alphabetically by the _last letter_ in the word. Hint: use the **Decorate, Sort, Undecorate** pattern. Write unit tests for your function."
   ]
  },
  {
   "cell_type": "code",
   "execution_count": 18,
   "metadata": {
    "collapsed": false,
    "solution": "Exercise 12 sort"
   },
   "outputs": [
    {
     "name": "stdout",
     "output_type": "stream",
     "text": [
      "['World', 'are', 'we', 'sorting', 'Hello', 'letter', 'last', 'by', 'today']\n"
     ]
    }
   ],
   "source": [
    "def sort_by_last_letter(list_of_words):\n",
    "    # Decorate\n",
    "    dec = []\n",
    "    for word in list_of_words:\n",
    "        dec.append((word[-1], word))\n",
    "    \n",
    "    # Sort\n",
    "    dec.sort()\n",
    "    \n",
    "    # Undecorate\n",
    "    res = []\n",
    "    for lastLetter, word in dec:\n",
    "        res.append(word)\n",
    "    \n",
    "    return res\n",
    "\n",
    "print sort_by_last_letter('Hello World today we are sorting by last letter'.split()) # That split makes me feel pretty sexy\n",
    "    "
   ]
  },
  {
   "cell_type": "markdown",
   "metadata": {},
   "source": [
    "**Quick check** Give an example of when you might use each sequence type:\n",
    "\n",
    "- tuple\n",
    "\n",
    "- list\n",
    "\n",
    "- string"
   ]
  },
  {
   "cell_type": "markdown",
   "metadata": {},
   "source": [
    "Tuple: Handy with dictionaries, when I need to pack or unpack multiple things at the same time.\n",
    "List: When I'm keeping track of a changing number of values.\n",
    "String: When I'm dealing with ... words and stuff."
   ]
  },
  {
   "cell_type": "markdown",
   "metadata": {
    "is_question": true,
    "problem": "Exercise 12.3"
   },
   "source": [
    "### Exercise 3  \n",
    "\n",
    "Write a function called `most_frequent` that takes a string and prints the letters in decreasing order of frequency. Find text samples from several different languages and see how letter frequency varies between languages. Compare your results with the tables at http://en.wikipedia.org/wiki/Letter_frequencies. \n",
    "\n",
    "Allen's solution (try it on your own first): http://thinkpython.com/code/most_frequent.py. "
   ]
  },
  {
   "cell_type": "code",
   "execution_count": 37,
   "metadata": {
    "collapsed": false,
    "solution": "Exercise 12.3"
   },
   "outputs": [
    {
     "name": "stdout",
     "output_type": "stream",
     "text": [
      "French:\n",
      "  : 16.2911611785\n",
      "e : 11.6117850953\n",
      "r : 7.10571923744\n",
      "a : 6.41247833622\n",
      "i : 5.89254766031\n",
      "u : 5.71923743501\n",
      "s : 5.71923743501\n",
      "n : 5.1993067591\n",
      "t : 4.50606585789\n",
      "o : 4.33275563258\n",
      "l : 3.63951473137\n",
      ", : 2.77296360485\n",
      "m : 2.59965337955\n",
      "d : 2.59965337955\n",
      "j : 1.73310225303\n",
      "p : 1.55979202773\n",
      "c : 1.55979202773\n",
      "b : 1.38648180243\n",
      "v : 1.03986135182\n",
      "h : 1.03986135182\n",
      ". : 1.03986135182\n",
      "� : 0.693240901213\n",
      "� : 0.693240901213\n",
      "� : 0.693240901213\n",
      "q : 0.693240901213\n",
      "g : 0.693240901213\n",
      "f : 0.693240901213\n",
      "x : 0.51993067591\n",
      "� : 0.346620450607\n",
      "y : 0.346620450607\n",
      "' : 0.346620450607\n",
      "� : 0.173310225303\n",
      "� : 0.173310225303\n",
      "- : 0.173310225303\n",
      "\n",
      "American:\n",
      "  : 15.6342182891\n",
      "e : 10.6194690265\n",
      "s : 6.78466076696\n",
      "t : 6.19469026549\n",
      "o : 5.60471976401\n",
      "a : 5.60471976401\n",
      "i : 5.30973451327\n",
      "r : 4.7197640118\n",
      "h : 4.42477876106\n",
      "d : 4.42477876106\n",
      "n : 4.12979351032\n",
      "l : 3.83480825959\n",
      "w : 2.3598820059\n",
      "u : 2.3598820059\n",
      ", : 2.3598820059\n",
      "y : 2.06489675516\n",
      "p : 2.06489675516\n",
      "c : 2.06489675516\n",
      "g : 1.76991150442\n",
      "m : 1.47492625369\n",
      "f : 1.47492625369\n",
      "v : 1.17994100295\n",
      "b : 0.884955752212\n",
      ". : 0.884955752212\n",
      "k : 0.589970501475\n",
      "; : 0.589970501475\n",
      "z : 0.294985250737\n",
      "j : 0.294985250737\n"
     ]
    }
   ],
   "source": [
    "def most_frequent(aString):\n",
    "    \n",
    "    # Reimplement histogram() to keep track of the largest value.\n",
    "    d = dict()\n",
    "    maxFreq = 0\n",
    "    for c in aString:\n",
    "        cFreq = d.get(c, 0)+1\n",
    "        if cFreq > maxFreq:\n",
    "            maxFreq = cFreq\n",
    "        d[c] = cFreq\n",
    "    \n",
    "    # Decorate\n",
    "    listOfFreq = []\n",
    "    for letter, freq in d.items():\n",
    "        listOfFreq.append((freq, letter))\n",
    "    \n",
    "    # Sort\n",
    "    listOfFreq.sort(reverse=True)\n",
    "    \n",
    "    #print listOfFreq\n",
    "    \n",
    "    # Print\n",
    "    for freq, letter in listOfFreq:\n",
    "        print letter, ':', 100*freq/float(len(aString))\n",
    "    \n",
    "frenchAF = \"Demain, dès laube, a l'heure ou blanchit la campagne, \\\n",
    "Je partirai. Vois-tu, je sais que tu m'attends.\\\n",
    "J’irai par la forêt, j’irai par la montagne.\\\n",
    "Je ne puis demeurer loin de toi plus longtemps.\\\n",
    "Je marcherai les yeux fixes sur mes pensees,\\\n",
    "Sans rien voir au dehors, sans entendre aucun bruit,\\\n",
    "Seul, inconnu, le dos courbe, les mains croisees,\\\n",
    "Triste, et le jour pour moi sera comme la nuit.\\\n",
    "Je ne regarderai ni l’or du soir qui tombe,\\\n",
    "Ni les voiles au loin descendant vers Harfleur,\\\n",
    "Et quand j’arriverai, je mettrai sur ta tombe\\\n",
    "Un bouquet de houx vert et de bruyere en fleur. \"\n",
    "\n",
    "american = \"Because I could not stop for Death,\\\n",
    "He kindly stopped for me;\\\n",
    "The carriage held but just ourselves\\\n",
    "And Immortality.\\\n",
    "We slowly drove, he knew no haste,\\\n",
    "And I had put away\\\n",
    "My labor, and my leisure too,\\\n",
    "For his civility.\\\n",
    "We passed the school, where children strove\\\n",
    "At recess, in the ring;\\\n",
    "We passed the fields of gazing grain,\\\n",
    "We passed the setting sun.\"\n",
    "\n",
    "print \"French:\"\n",
    "most_frequent(frenchAF.lower())\n",
    "print '\\n', 'American:'\n",
    "\n",
    "most_frequent(american.lower())"
   ]
  },
  {
   "cell_type": "markdown",
   "metadata": {
    "is_question": true,
    "problem": "Exercise 12.6"
   },
   "source": [
    "### Challenge: Exercise 6   (optional)\n",
    "\n",
    "From a [Car Talk Puzzler](http://www.cartalk.com/content/puzzlers):\n",
    "\n",
    "What is the longest English word, that remains a valid English word, as you remove its letters one at a time?\n",
    "\n",
    "Now, letters can be removed from either end, or the middle, but you can’t rearrange any of the letters. Every time you drop a letter, you wind up with another English word. If you do that, you’re eventually going to wind up with one letter and that too is going to be an English word—one that’s found in the dictionary. I want to know what’s the longest word and how many letters does it have?\n",
    "\n",
    "I’m going to give you a little modest example: Sprite. Ok? You start off with sprite, you take a letter off, one from the interior of the word, take the r away, and we’re left with the word spite, then we take the e off the end, we’re left with spit, we take the s off, we’re left with pit, it, and I. \n",
    "\n",
    "Write a program to find all words that can be reduced in this way, and then find the longest one.\n",
    "\n",
    "This exercise is a little more challenging than most, so here are some suggestions:\n",
    "\n",
    "- You might want to write a function that takes a word and computes a list of all the words that can be formed by removing one letter. These are the “children” of the word.\n",
    "- Recursively, a word is reducible if any of its children are reducible. As a base case, you can consider the empty string reducible.\n",
    "- The word list from [Chapter 9.1](http://www.greenteapress.com/thinkpython/html/thinkpython010.html) Exercise 1 doesn’t contain single letter words. So you might want to add “I”, “a”, and the empty string.\n",
    "- To improve the performance of your program, you might want to memoize the words that are known to be reducible.\n",
    "\n",
    "Allen's solution: http://thinkpython.com/code/reducible.py."
   ]
  },
  {
   "cell_type": "code",
   "execution_count": null,
   "metadata": {
    "collapsed": true,
    "solution": "Exercise 12.6"
   },
   "outputs": [],
   "source": []
  },
  {
   "cell_type": "markdown",
   "metadata": {
    "is_question": true,
    "problem": "Feedback"
   },
   "source": [
    "## Reading Journal feedback\n",
    "\n",
    "Have any comments on this Reading Journal? Feel free to leave them below and we'll read them when you submit your journal entry. This could include suggestions to improve the exercises, topics you'd like to see covered in class next time, or other feedback.\n",
    "\n",
    "If you have Python questions or run into problems while completing the reading, you should post them to Piazza instead so you can get a quick response before your journal is submitted."
   ]
  },
  {
   "cell_type": "markdown",
   "metadata": {
    "feedback_response": true,
    "solution": "Feedback"
   },
   "source": [
    " "
   ]
  }
 ],
 "metadata": {
  "celltoolbar": "Edit Metadata",
  "kernelspec": {
   "display_name": "Python 2",
   "language": "python",
   "name": "python2"
  },
  "language_info": {
   "codemirror_mode": {
    "name": "ipython",
    "version": 2
   },
   "file_extension": ".py",
   "mimetype": "text/x-python",
   "name": "python",
   "nbconvert_exporter": "python",
   "pygments_lexer": "ipython2",
   "version": "2.7.6"
  }
 },
 "nbformat": 4,
 "nbformat_minor": 0
}
